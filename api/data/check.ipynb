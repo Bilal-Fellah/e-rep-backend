{
 "cells": [
  {
   "cell_type": "code",
   "execution_count": 2,
   "id": "4c05b75f",
   "metadata": {},
   "outputs": [],
   "source": [
    "import json"
   ]
  },
  {
   "cell_type": "code",
   "execution_count": 3,
   "id": "ce4dbb39",
   "metadata": {},
   "outputs": [
    {
     "name": "stdout",
     "output_type": "stream",
     "text": [
      "not None\n",
      "not None\n",
      "not None\n",
      "not None\n",
      "not None\n",
      "not None\n",
      "not None\n",
      "not None\n",
      "not None\n",
      "not None\n",
      "not None\n",
      "not None\n",
      "not None\n"
     ]
    }
   ],
   "source": [
    "with open(\"youtube_2025-08-18_12-20-59.json\", 'r') as f:\n",
    "    data = json.load(f)\n",
    "\n",
    "for i in data:\n",
    "    fol =  i.get(\"Description\")\n",
    "    if not fol:\n",
    "        print(f\"not {fol}\")\n"
   ]
  },
  {
   "cell_type": "code",
   "execution_count": null,
   "id": "8614aca0",
   "metadata": {},
   "outputs": [],
   "source": []
  }
 ],
 "metadata": {
  "kernelspec": {
   "display_name": "data-science-env",
   "language": "python",
   "name": "python3"
  },
  "language_info": {
   "codemirror_mode": {
    "name": "ipython",
    "version": 3
   },
   "file_extension": ".py",
   "mimetype": "text/x-python",
   "name": "python",
   "nbconvert_exporter": "python",
   "pygments_lexer": "ipython3",
   "version": "3.13.5"
  }
 },
 "nbformat": 4,
 "nbformat_minor": 5
}
