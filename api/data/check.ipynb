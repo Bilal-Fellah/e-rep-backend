{
 "cells": [
  {
   "cell_type": "code",
   "execution_count": 1,
   "id": "4c05b75f",
   "metadata": {},
   "outputs": [],
   "source": [
    "import json"
   ]
  },
  {
   "cell_type": "code",
   "execution_count": null,
   "id": "ce4dbb39",
   "metadata": {},
   "outputs": [
    {
     "name": "stdout",
     "output_type": "stream",
     "text": [
      "not 3312\n",
      "not 47005\n",
      "not 1747\n",
      "not 44914\n",
      "not 7311\n",
      "not 13398\n",
      "not 114489\n",
      "not 79303\n",
      "not 34587\n",
      "not 32182\n"
     ]
    }
   ],
   "source": [
    "with open(\"instagram_2025-08-16_07-11-11.json\", 'r') as f:\n",
    "    data = json.load(f)\n",
    "\n",
    "for i in data:\n",
    "    fol =  i.get(\"followers\")\n",
    "    \n",
    "    print(f\"not {fol}\")\n"
   ]
  },
  {
   "cell_type": "code",
   "execution_count": null,
   "id": "8614aca0",
   "metadata": {},
   "outputs": [],
   "source": []
  }
 ],
 "metadata": {
  "kernelspec": {
   "display_name": "data-science-env",
   "language": "python",
   "name": "python3"
  },
  "language_info": {
   "codemirror_mode": {
    "name": "ipython",
    "version": 3
   },
   "file_extension": ".py",
   "mimetype": "text/x-python",
   "name": "python",
   "nbconvert_exporter": "python",
   "pygments_lexer": "ipython3",
   "version": "3.13.5"
  }
 },
 "nbformat": 4,
 "nbformat_minor": 5
}
